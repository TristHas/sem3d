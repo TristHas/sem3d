{
 "cells": [
  {
   "cell_type": "code",
   "execution_count": 1,
   "metadata": {},
   "outputs": [],
   "source": [
    "import os, cv2\n",
    "from ipywidgets import interact, FloatSlider, IntSlider\n",
    "import numpy as np\n",
    "import matplotlib\n",
    "import matplotlib.pyplot as plt\n",
    "plt.style.use(\"dark_background\")\n",
    "%matplotlib inline\n",
    "\n",
    "from sem3d.data import get_imgs, get_keys, get_pairs, get_rectified\n",
    "from sem3d.rectification import rectify, get_filtered_kp, translation_alignment\n",
    "from sem3d.plots import plot_epipolar_lines, plot_disp, plot_disp_trends\n",
    "from sem3d.geometry import center, get_rotation_angles, rotate_point_img, rotate_point, rotate_img"
   ]
  },
  {
   "cell_type": "code",
   "execution_count": 2,
   "metadata": {},
   "outputs": [],
   "source": [
    "def rotation_alignment(q1, q2, t1, t2):\n",
    "    \"\"\"\n",
    "    \"\"\"\n",
    "    q1 = rotate_point(q1, t1)\n",
    "    q2 = rotate_point(q2, t2)\n",
    "    q1, q2 = translation_alignment(q1, q2)\n",
    "    return q1, q2\n",
    "\n",
    "def translation_alignment(q1, q2, x_margin=2):\n",
    "    x_shift = (q1 - q2).max(0)[0] + x_margin\n",
    "    y_shift = (q1 - q2).mean(0)[1]\n",
    "    q1 -= np.array([[x_shift, y_shift]])\n",
    "    return q1, q2\n",
    "\n",
    "def crop_pt_patch(q, corner=(200, 400), size=(400, 50), center=False):\n",
    "    x,y = corner\n",
    "    w,h = size\n",
    "\n",
    "    x_msk = np.logical_and(q[:,0]>x, q[:,0]<x+w)\n",
    "    y_msk = np.logical_and(q[:,1]>y, q[:,1]<y+h)\n",
    "    msk = np.logical_and(x_msk, y_msk)\n",
    "    q = q[msk]\n",
    "    if center:\n",
    "        pass\n",
    "    return q, msk\n",
    "\n",
    "def crop_img_patch(img, corner=(200, 400), size=(400, 50)):\n",
    "    x,y = corner\n",
    "    w,h = size\n",
    "    return img[y:y+h,  x:x+w]"
   ]
  },
  {
   "cell_type": "code",
   "execution_count": 3,
   "metadata": {},
   "outputs": [],
   "source": [
    "def correct_point(q, alpha, skew):\n",
    "    mat = get_intrinsic(alpha, skew)\n",
    "    if isinstance(q, list):\n",
    "        return [(mat @ q_.T).T for q_ in q]\n",
    "    else:\n",
    "        return (mat @ q.T).T\n",
    "    \n",
    "def get_intrinsic(alpha, skew):\n",
    "    return np.array([[1+alpha, 0], [skew,1]])"
   ]
  },
  {
   "cell_type": "code",
   "execution_count": 4,
   "metadata": {},
   "outputs": [],
   "source": [
    "imgs = get_imgs(\"MEC\")\n",
    "keys = get_keys(\"MEC\")"
   ]
  },
  {
   "cell_type": "code",
   "execution_count": 5,
   "metadata": {},
   "outputs": [
    {
     "name": "stdout",
     "output_type": "stream",
     "text": [
      "14410 keypoints matched\n",
      "10184 keypoints filtered by coef (0.7). 4226 remaings\n",
      "12 keypoints filtered by distance (100). 4214 remaings\n",
      "976 keypoints filtered by intensity (50). 3238 remaings\n",
      "3238 keypoints matched\n",
      "1262 keypoints filtered by ransac (0.1). 1976 remaings\n"
     ]
    }
   ],
   "source": [
    "residual_threshold = .1\n",
    "img1, img2 = imgs[keys[0]], imgs[keys[-1]]\n",
    "q1, q2 = get_filtered_kp(img1, img2, residual_threshold=residual_threshold)"
   ]
  },
  {
   "cell_type": "code",
   "execution_count": 6,
   "metadata": {},
   "outputs": [
    {
     "data": {
      "application/vnd.jupyter.widget-view+json": {
       "model_id": "26f8aafd2b0047eb9ef92766cc9b3965",
       "version_major": 2,
       "version_minor": 0
      },
      "text/plain": [
       "interactive(children=(FloatSlider(value=-13.397078611924773, description='t1', max=90.0, min=-90.0, step=0.01)…"
      ]
     },
     "metadata": {},
     "output_type": "display_data"
    }
   ],
   "source": [
    "max_disp = 5\n",
    "idx = np.random.choice(q1.shape[0], size=10)\n",
    "\n",
    "Img1, Img2, Q1,Q2 = img1, img2, q1, q2\n",
    "t1, t2 = get_rotation_angles(q1, q2)\n",
    "init_angle = t1\n",
    "init_delta = (t2 - t1)\n",
    "cmap = matplotlib.cm.get_cmap('jet')\n",
    "\n",
    "left_slider = FloatSlider(\n",
    "    value=t1,\n",
    "    min=-90,\n",
    "    max=90,\n",
    "    step=.01,\n",
    "    description='t1',\n",
    "    disabled=False,\n",
    "    continuous_update=True,\n",
    "    orientation='horizontal',\n",
    "    readout=True,\n",
    "    readout_format='.2f'\n",
    ")\n",
    "\n",
    "right_slider = FloatSlider(\n",
    "    value=t2,\n",
    "    min=-90,\n",
    "    max=90,\n",
    "    step=.01,\n",
    "    description='t2',\n",
    "    disabled=False,\n",
    "    continuous_update=True,\n",
    "    orientation='horizontal',\n",
    "    readout=True,\n",
    "    readout_format='.2f'\n",
    ")\n",
    "\n",
    "ratio_slider = FloatSlider(\n",
    "    value=0,\n",
    "    min=-5,\n",
    "    max=5,\n",
    "    step=.01,\n",
    "    description='alpha',\n",
    "    disabled=False,\n",
    "    continuous_update=True,\n",
    "    orientation='horizontal',\n",
    "    readout=True,\n",
    "    readout_format='.2f'\n",
    ")\n",
    "\n",
    "skew_slider = FloatSlider(\n",
    "    value=0,\n",
    "    min=-5,\n",
    "    max=5,\n",
    "    step=.01,\n",
    "    description='skew',\n",
    "    disabled=False,\n",
    "    continuous_update=True,\n",
    "    orientation='horizontal',\n",
    "    readout=True,\n",
    "    readout_format='.2f'\n",
    ")\n",
    "\n",
    "@interact(t1=left_slider, t2=right_slider, alpha=ratio_slider, skew=skew_slider)\n",
    "def visualization(t1, t2, alpha, skew):\n",
    "    \n",
    "    fig,ax = plt.subplots(2,4, figsize=(40,20))\n",
    "    q1, q2 = correct_point([Q1,Q2], alpha, skew)\n",
    "    q1, q2 = rotation_alignment(q1, q2, t1, t2)\n",
    "    \n",
    "    \n",
    "    x_indx = q1\n",
    "    color_x = cmap(x_indx[:,0] / x_indx[:,0].max())\n",
    "    color_y = cmap(x_indx[:,1] / x_indx[:,1].max())\n",
    "    x_y_axis = (x_indx[:,0], x_indx[:,1])\n",
    "    x_y_diff = ((q1-q2)[:,0], (q1-q2)[:,1])\n",
    "    \n",
    "    ax[0,0].scatter(x_y_axis[0], x_y_diff[0], c=color_y, alpha=.5)\n",
    "    #ax[0,0].set_ylim(-max_disp, max_disp)\n",
    "    ax[0,1].scatter(x_y_diff[0], x_y_axis[1], c=color_x, alpha=.5)\n",
    "    #ax[0,1].set_xlim(-max_disp, max_disp)\n",
    "    ax[1,0].scatter(x_y_axis[0], x_y_diff[1], c=color_y, alpha=.5)\n",
    "    ax[1,0].set_ylim(-max_disp, max_disp)\n",
    "    ax[1,1].scatter(x_y_diff[1], x_y_axis[1], c=color_x, alpha=.5)\n",
    "    ax[1,1].set_xlim(-max_disp, max_disp)\n",
    "    \n",
    "    #ax[0,-1].set_ylim(img1.shape[0], 0)\n",
    "    _, msk = crop_pt_patch(Q1, corner=(400,0), size=(100,100))\n",
    "    q2_ = q2[msk]\n",
    "    q1_ = q1[msk]\n",
    "    ax[0,-1].scatter(q1_[:,0], q1_[:,1])\n",
    "    ax[0,-1].scatter(q2_[:,0], q2_[:,1])\n",
    "    \n",
    "    q1_, msk = crop_pt_patch(q1, corner=(400, 500), size=(100,100))\n",
    "    q2_ = q2[msk]\n",
    "    ax[1,-1].scatter(q1_[:,0], q1_[:,1])\n",
    "    ax[1,-1].scatter(q2_[:,0], q2_[:,1])\n",
    "\n",
    "    #ax[0,2].imshow(rotate_img(img1, angle))\n",
    "    #ax[1,2].imshow(rotate_img(img2, angle))"
   ]
  },
  {
   "cell_type": "code",
   "execution_count": null,
   "metadata": {},
   "outputs": [],
   "source": []
  },
  {
   "cell_type": "code",
   "execution_count": null,
   "metadata": {},
   "outputs": [],
   "source": []
  }
 ],
 "metadata": {
  "kernelspec": {
   "display_name": "Python 3",
   "language": "python",
   "name": "python3"
  },
  "language_info": {
   "codemirror_mode": {
    "name": "ipython",
    "version": 3
   },
   "file_extension": ".py",
   "mimetype": "text/x-python",
   "name": "python",
   "nbconvert_exporter": "python",
   "pygments_lexer": "ipython3",
   "version": "3.6.5"
  }
 },
 "nbformat": 4,
 "nbformat_minor": 2
}
